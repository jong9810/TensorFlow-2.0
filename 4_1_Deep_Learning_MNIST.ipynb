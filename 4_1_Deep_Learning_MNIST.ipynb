{
  "nbformat": 4,
  "nbformat_minor": 0,
  "metadata": {
    "colab": {
      "name": "4-1. Deep Learning MNIST.ipynb",
      "private_outputs": true,
      "provenance": [],
      "collapsed_sections": [],
      "authorship_tag": "ABX9TyNSvA6ymI1AOb5BsPDHCGPi",
      "include_colab_link": true
    },
    "kernelspec": {
      "name": "python3",
      "display_name": "Python 3"
    },
    "language_info": {
      "name": "python"
    }
  },
  "cells": [
    {
      "cell_type": "markdown",
      "metadata": {
        "id": "view-in-github",
        "colab_type": "text"
      },
      "source": [
        "<a href=\"https://colab.research.google.com/github/jong9810/TensorFlow-2.0/blob/main/4_1_Deep_Learning_MNIST.ipynb\" target=\"_parent\"><img src=\"https://colab.research.google.com/assets/colab-badge.svg\" alt=\"Open In Colab\"/></a>"
      ]
    },
    {
      "cell_type": "markdown",
      "source": [
        "# Deep Learning Ex1 : MNIST"
      ],
      "metadata": {
        "id": "ziWm8IoZYumb"
      }
    },
    {
      "cell_type": "code",
      "source": [
        "import numpy as np\n",
        "import tensorflow as tf\n",
        "import matplotlib.pyplot as plt\n",
        "\n",
        "from tensorflow.keras.models import Sequential\n",
        "from tensorflow.keras.layers import Flatten, Dense"
      ],
      "metadata": {
        "id": "C6VdY_OQZbF6"
      },
      "execution_count": null,
      "outputs": []
    },
    {
      "cell_type": "code",
      "source": [
        "from tensorflow.keras.datasets import mnist"
      ],
      "metadata": {
        "id": "fPm7sIpGY6O5"
      },
      "execution_count": null,
      "outputs": []
    },
    {
      "cell_type": "code",
      "source": [
        "(x_train, t_train), (x_test, t_test) = mnist.load_data()\n",
        "print('x_train.shape =', x_train.shape, 't_train.shape =', t_train.shape)\n",
        "print('x_test.shape =', x_test.shape, 't_test.shape =', t_test.shape)\n",
        "# print('\\nt_train =', t_train)\n",
        "# print('t_test =', t_test)"
      ],
      "metadata": {
        "id": "24KpSzCRY6Tm"
      },
      "execution_count": null,
      "outputs": []
    },
    {
      "cell_type": "code",
      "source": [
        "# 25개의 이미지 출력\n",
        "plt.figure(figsize=(6, 6))\n",
        "for index in range(25):\n",
        "    plt.subplot(5, 5, index + 1)\n",
        "    plt.imshow(x_train[index], cmap='gray')\n",
        "    plt.axis('off')\n",
        "    # plt.title(str(t_train[index]))\n",
        "plt.show()"
      ],
      "metadata": {
        "id": "LeGmOy_dY6Wp"
      },
      "execution_count": null,
      "outputs": []
    },
    {
      "cell_type": "code",
      "source": [
        "from tensorflow.keras.utils import to_categorical\n",
        "\n",
        "# 학습 데이터 / 테스트 데이터 정규화 (Normalization)\n",
        "x_train = (x_train - 0.0) / (255.0 - 0.0)\n",
        "x_test = (x_test - 0.0) / (255.0 - 0.0)\n",
        "\n",
        "# 정답 데이터 원핫 인코딩 (One-Hot Encoding)\n",
        "t_train = to_categorical(t_train, num_classes=10) # to_categorical(변환할 데이터, 정답 데이터 인덱스 수)\n",
        "t_test = to_categorical(t_test, num_classes=10)"
      ],
      "metadata": {
        "id": "ZoRhG9yVY6Zp"
      },
      "execution_count": null,
      "outputs": []
    },
    {
      "cell_type": "code",
      "source": [
        "model = Sequential()\n",
        "model.add(Flatten(input_shape=(28, 28))) # 입력층 구성 (입력 데이터 : (28, 28))\n",
        "model.add(Dense(100, activation='relu')) # 은닉층 구성 (은닉층 : 1개, 은닉층 노드 수 : 100개), 활성화 함수 : relu ->> sigmoid 와 비슷한 역할\n",
        "model.add(Dense(10, activation='softmax')) # 출력층 구성 (출력 노드 수 : 10개), 활성화 함수 : softmax ->> 이미지 분류"
      ],
      "metadata": {
        "id": "_kh8puw_Y6cm"
      },
      "execution_count": null,
      "outputs": []
    },
    {
      "cell_type": "code",
      "source": [
        "from tensorflow.keras.optimizers import Adam\n",
        "\n",
        "model.compile(optimizer=Adam(learning_rate=1e-3), loss='categorical_crossentropy', metrics=['accuracy'])  # 원핫 인코딩 방식 ->> 손실함수 : 'categorical_crossentropy'\n",
        "model.summary()"
      ],
      "metadata": {
        "id": "NVG84gi6Y6fV"
      },
      "execution_count": null,
      "outputs": []
    },
    {
      "cell_type": "code",
      "source": [
        "hist = model.fit(x_train, t_train, epochs=30, validation_split=0.3)"
      ],
      "metadata": {
        "id": "kESC06YMZNZD"
      },
      "execution_count": null,
      "outputs": []
    },
    {
      "cell_type": "code",
      "source": [
        "model.evaluate(x_test, t_test)"
      ],
      "metadata": {
        "id": "JxRL9Hw_ZNc2"
      },
      "execution_count": null,
      "outputs": []
    },
    {
      "cell_type": "code",
      "source": [
        "plt.title('Loss')\n",
        "plt.xlabel('epochs')\n",
        "plt.ylabel('loss')\n",
        "plt.grid()\n",
        "\n",
        "plt.plot(hist.history['loss'], label='train loss')\n",
        "plt.plot(hist.history['val_loss'], label='validation loss')\n",
        "\n",
        "plt.legend(loc='best')\n",
        "plt.show()"
      ],
      "metadata": {
        "id": "60UU688WZNgD"
      },
      "execution_count": null,
      "outputs": []
    },
    {
      "cell_type": "code",
      "source": [
        "plt.title('Accuracy')\n",
        "plt.xlabel('epochs')\n",
        "plt.ylabel('accuracy')\n",
        "plt.grid()\n",
        "\n",
        "plt.plot(hist.history['accuracy'], label='train accuracy')\n",
        "plt.plot(hist.history['val_accuracy'], label='validation accuracy')\n",
        "\n",
        "plt.legend(loc='best')\n",
        "plt.show()"
      ],
      "metadata": {
        "id": "mWsj2G_qZNjh"
      },
      "execution_count": null,
      "outputs": []
    },
    {
      "cell_type": "code",
      "source": [
        "from sklearn.metrics import confusion_matrix\n",
        "import seaborn as sns"
      ],
      "metadata": {
        "id": "ITNxHAqIZNml"
      },
      "execution_count": null,
      "outputs": []
    },
    {
      "cell_type": "code",
      "source": [
        "plt.figure(figsize=(6, 6))\n",
        "\n",
        "predicted_value = model.predict(x_test) # x_test 데이터에 대한 모델 예측값\n",
        "cm = confusion_matrix(np.argmax(t_test, axis=-1), np.argmax(predicted_value, axis=-1)) # 혼동 행렬 : confusion_matrix(테스트 정답 데이터, 테스트 예측 데이터)  인자 : axis=-1 ->> \n",
        "\n",
        "sns.heatmap(cm, annot=True, fmt='d')\n",
        "plt.show()"
      ],
      "metadata": {
        "id": "EjUljICiZNpq"
      },
      "execution_count": null,
      "outputs": []
    },
    {
      "cell_type": "code",
      "source": [
        "print(cm,'\\n')\n",
        "\n",
        "for i in range(10):\n",
        "    print('label = {0}\\t({1}/{2})\\taccuracy = {3}'.format(i, np.max(cm[i]), np.sum(cm[i]), np.max(cm[i])/np.sum(cm[i])))"
      ],
      "metadata": {
        "id": "pQV_osWcZNsf"
      },
      "execution_count": null,
      "outputs": []
    }
  ]
}