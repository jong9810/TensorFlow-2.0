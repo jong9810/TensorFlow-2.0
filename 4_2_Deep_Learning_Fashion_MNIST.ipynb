{
  "nbformat": 4,
  "nbformat_minor": 0,
  "metadata": {
    "colab": {
      "name": "4-2. Deep Learning Fashion-MNIST.ipynb",
      "private_outputs": true,
      "provenance": [],
      "collapsed_sections": [],
      "authorship_tag": "ABX9TyPxnMkVd8IgDm0gyMze6A8Z",
      "include_colab_link": true
    },
    "kernelspec": {
      "name": "python3",
      "display_name": "Python 3"
    },
    "language_info": {
      "name": "python"
    }
  },
  "cells": [
    {
      "cell_type": "markdown",
      "metadata": {
        "id": "view-in-github",
        "colab_type": "text"
      },
      "source": [
        "<a href=\"https://colab.research.google.com/github/jong9810/TensorFlow-2.0/blob/main/4_2_Deep_Learning_Fashion_MNIST.ipynb\" target=\"_parent\"><img src=\"https://colab.research.google.com/assets/colab-badge.svg\" alt=\"Open In Colab\"/></a>"
      ]
    },
    {
      "cell_type": "markdown",
      "source": [
        "# Deep Learning Ex2 : Fashion-MNIST"
      ],
      "metadata": {
        "id": "1SURcUr3aRJO"
      }
    },
    {
      "cell_type": "markdown",
      "source": [
        "### Fashion MNIST 데이터\n",
        "1. 28 * 28 크기의 60000개 학습데이터, 10000개의 테스트 데이터로 이루어져 있음\n",
        "1. 정답은 10가지의 옷 종류 \n",
        "- (0 : T-shirt/top, 1 : Trouser, 2 : Pullover, 3 :Dress, 4 : Coat, 5 : Sandal, 6 : Shirt, 7 : Sneaker, 8 : Bag, 9 : Ankle boot)"
      ],
      "metadata": {
        "id": "G9toA6gXaxx1"
      }
    },
    {
      "cell_type": "code",
      "source": [
        "import numpy as np\n",
        "import tensorflow as tf\n",
        "import matplotlib.pyplot as plt\n",
        "\n",
        "from tensorflow.keras.models import Sequential\n",
        "from tensorflow.keras.layers import Flatten, Dense"
      ],
      "metadata": {
        "id": "XP35QF1AaYiC"
      },
      "execution_count": null,
      "outputs": []
    },
    {
      "cell_type": "code",
      "source": [
        "from tensorflow.keras.datasets import fashion_mnist"
      ],
      "metadata": {
        "id": "9rAY5eaYaYlj"
      },
      "execution_count": null,
      "outputs": []
    },
    {
      "cell_type": "code",
      "source": [
        "# 1. 데이터 정의 : Fasion-MNIST 데이터 불러옴\n",
        "(x_train, t_train), (x_test, t_test) = fashion_mnist.load_data()\n",
        "\n",
        "print('x_train.shape =', x_train.shape, 't_train.shape =', t_train.shape)\n",
        "print('x_test.shape =', x_test.shape, 't_test.shape =', t_test.shape)\n",
        "\n",
        "# print(x_train)\n",
        "# print(t_train)"
      ],
      "metadata": {
        "id": "Yf4yfYbSaYo-"
      },
      "execution_count": null,
      "outputs": []
    },
    {
      "cell_type": "code",
      "source": [
        "# 25개의 이미지 출력\n",
        "plt.figure(figsize=(6, 6))\n",
        "for index in range(25):\n",
        "    plt.subplot(5, 5, index + 1)\n",
        "    plt.imshow(x_train[index], cmap='gray')\n",
        "    plt.axis('off')\n",
        "    # plt.title(str(t_train[index]))\n",
        "plt.show()"
      ],
      "metadata": {
        "id": "r9sFuU-taYr9"
      },
      "execution_count": null,
      "outputs": []
    },
    {
      "cell_type": "code",
      "source": [
        "# 2. 데이터 전처리 : 입력 데이터 정규화, 정답 데이터는 원핫 인코딩을 하지 않고 진행!!!\n",
        "# from tensorflow.keras.utils import to_categorical\n",
        "\n",
        "x_train = (x_train - 0.0) / (255.0 - 0.0)\n",
        "x_test = (x_test - 0.0) / (255.0 - 0.0)\n",
        "\n",
        "# t_train = to_categorical(t_train, num_classes=10)\n",
        "# t_test = to_categorical(t_test, num_classes=10)\n",
        "\n",
        "# print(x_test)\n",
        "# print(t_test)"
      ],
      "metadata": {
        "id": "uMtxKZiLaYvO"
      },
      "execution_count": null,
      "outputs": []
    },
    {
      "cell_type": "code",
      "source": [
        "# 3. 모델 구축 : 모델 생성, 입력, 은닉, 출력층 정의해줌\n",
        "model = Sequential()\n",
        "\n",
        "model.add(Flatten(input_shape=(28, 28))) # 입력층 구성\n",
        "model.add(Dense(100, activation='relu')) # 은닉층 구성\n",
        "model.add(Dense(10, activation='softmax')) # 출력층 구성"
      ],
      "metadata": {
        "id": "Llx20xtWaYyM"
      },
      "execution_count": null,
      "outputs": []
    },
    {
      "cell_type": "code",
      "source": [
        "from tensorflow.keras.optimizers import Adam\n",
        "\n",
        "# 정답 데이터가 원핫 인코딩 방식이 아니기 때문에 손실함수는 loss='sparse_categorical_crossentropy'로 지정\n",
        "model.compile(optimizer=Adam(learning_rate=1e-3), loss='sparse_categorical_crossentropy', metrics=['accuracy'])\n",
        "model.summary()"
      ],
      "metadata": {
        "id": "mmMzls5vaY1M"
      },
      "execution_count": null,
      "outputs": []
    },
    {
      "cell_type": "code",
      "source": [
        "# 4. 학습 : 훈련 데이터를 가지고 모델을 생성하기 위해 학습시키는 과정\n",
        "hist = model.fit(x_train, t_train, epochs=30, validation_split=0.3)"
      ],
      "metadata": {
        "id": "aMLWX5tUaY4g"
      },
      "execution_count": null,
      "outputs": []
    },
    {
      "cell_type": "code",
      "source": [
        "# 5. 모델 평가 및 예측 : 모델이 적절하게 생성되었는지 평가하고, 임의의 테스트 데이터에 대해 결과를 예측하는 과정\n",
        "model.evaluate(x_test, t_test) # 테스트 데이터에 대한 모델의 손실함수 값, 정확도를 출력"
      ],
      "metadata": {
        "id": "e3ruRr2caY7a"
      },
      "execution_count": null,
      "outputs": []
    },
    {
      "cell_type": "code",
      "source": [
        "plt.title('Loss')\n",
        "plt.xlabel('epochs')\n",
        "plt.ylabel('loss')\n",
        "plt.grid()\n",
        "\n",
        "plt.plot(hist.history['loss'], label='train loss')\n",
        "plt.plot(hist.history['val_loss'], label='validation loss')\n",
        "\n",
        "plt.legend(loc='best')\n",
        "plt.show()"
      ],
      "metadata": {
        "id": "h-eoWqEgaY97"
      },
      "execution_count": null,
      "outputs": []
    },
    {
      "cell_type": "code",
      "source": [
        "plt.title('Accuracy')\n",
        "plt.xlabel('epochs')\n",
        "plt.ylabel('accuracy')\n",
        "plt.grid()\n",
        "\n",
        "plt.plot(hist.history['accuracy'], label='train accuracy')\n",
        "plt.plot(hist.history['val_accuracy'], label='validation accuracy')\n",
        "\n",
        "plt.legend(loc='best')\n",
        "plt.show()"
      ],
      "metadata": {
        "id": "jK9EZWmudRDU"
      },
      "execution_count": null,
      "outputs": []
    },
    {
      "cell_type": "code",
      "source": [
        "from sklearn.metrics import confusion_matrix  # 어떤 데이터에 대해 모델이 잘 맞추고 못 맞추는지를 보여줌\n",
        "import seaborn as sns"
      ],
      "metadata": {
        "id": "65JiuQlmdRGp"
      },
      "execution_count": null,
      "outputs": []
    },
    {
      "cell_type": "code",
      "source": [
        "plt.figure(figsize=(6, 6))\n",
        "\n",
        "predicted_value = model.predict(x_test) # x_test 데이터에 대한 모델 예측값\n",
        "cm = confusion_matrix(t_test, np.argmax(predicted_value, axis=-1)) # 혼동 행렬 : confusion_matrix(테스트 정답 데이터, 테스트 예측 데이터)  인자 : axis=-1 ->> \n",
        "# 정답 데이터를 원핫 인코딩 방식으로 하지 않았기 때문에 np.argmax() 함수를 사용하지 않고 그냥 t_test 자체로 대입해야 한다 (t_test 데이터는 10진수 값이 저장되어 있기 때문)\n",
        "# 테스트 데이터를 통해 예측된 데이터는 activation='softmax'로 인해 10개의 노드로 표시되기 때문에 np.argmax() 함수로 가장 큰 값(확률)을 가지는 인덱스 값을 대입해주어야 한다.\n",
        "\n",
        "sns.heatmap(cm, annot=True, fmt='d')\n",
        "plt.show()"
      ],
      "metadata": {
        "id": "DaRnUOE9dr8R"
      },
      "execution_count": null,
      "outputs": []
    },
    {
      "cell_type": "code",
      "source": [
        "print(cm,'\\n')\n",
        "\n",
        "for i in range(10):\n",
        "    print('label = {0}\\t({1}/{2})\\taccuracy = {3}'.format(i, np.max(cm[i]), np.sum(cm[i]), np.max(cm[i])/np.sum(cm[i])))"
      ],
      "metadata": {
        "id": "QLF55bKTdr_f"
      },
      "execution_count": null,
      "outputs": []
    }
  ]
}