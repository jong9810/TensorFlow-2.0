{
  "nbformat": 4,
  "nbformat_minor": 0,
  "metadata": {
    "colab": {
      "name": "2. Linear Regression.ipynb",
      "private_outputs": true,
      "provenance": [],
      "collapsed_sections": [],
      "authorship_tag": "ABX9TyOEcX7rSezoaScvmVB3X0HN",
      "include_colab_link": true
    },
    "kernelspec": {
      "name": "python3",
      "display_name": "Python 3"
    },
    "language_info": {
      "name": "python"
    }
  },
  "cells": [
    {
      "cell_type": "markdown",
      "metadata": {
        "id": "view-in-github",
        "colab_type": "text"
      },
      "source": [
        "<a href=\"https://colab.research.google.com/github/jong9810/TensorFlow-2.0/blob/main/2_Linear_Regression.ipynb\" target=\"_parent\"><img src=\"https://colab.research.google.com/assets/colab-badge.svg\" alt=\"Open In Colab\"/></a>"
      ]
    },
    {
      "cell_type": "markdown",
      "source": [
        "# 2. Linear Regression"
      ],
      "metadata": {
        "id": "wU44W6QR3zEH"
      }
    },
    {
      "cell_type": "code",
      "source": [
        "import tensorflow as tf\n",
        "import numpy as np\n",
        "\n",
        "from tensorflow.keras.models import Sequential\n",
        "from tensorflow.keras.layers import Flatten, Dense\n",
        "from tensorflow.keras.optimizers import SGD, Adam\n",
        "\n",
        "print(tf.__version__)"
      ],
      "metadata": {
        "id": "qj5Hl4OF4d_B"
      },
      "execution_count": null,
      "outputs": []
    },
    {
      "cell_type": "code",
      "source": [
        "x_data = np.array([ \n",
        "     [1,2,0], \n",
        "     [5,4,3], \n",
        "     [1,2,-1], \n",
        "     [3,1,0], \n",
        "     [2,4,2], \n",
        "     [4,1,2], \n",
        "     [-1,3,2], \n",
        "     [4,3,3], \n",
        "     [0,2,6], \n",
        "     [2,2,1], \n",
        "     [1,-2,-2], \n",
        "     [0,1,3], \n",
        "     [1,1,3], \n",
        "     [0,1,4], \n",
        "     [2,3,3] \n",
        "     ])\n",
        "t_data = np.array([-4, 4, -6, 3, -4, 9, -7, 5, 6, 0, 4, 3, 5, 5, 1])\n",
        "print(x_data.shape, t_data.shape)"
      ],
      "metadata": {
        "id": "D5KwgrVj4eIC"
      },
      "execution_count": null,
      "outputs": []
    },
    {
      "cell_type": "code",
      "source": [
        "model = Sequential()\n",
        "# model.add(Flatten(input_shape=(3,)))\n",
        "# model.add(Dense(1, activation='linear'))\n",
        "model.add(Dense(1, input_shape=(3,), activation='linear')) # 활성화 함수 : 직선"
      ],
      "metadata": {
        "id": "1qBg0tsF4eLH"
      },
      "execution_count": null,
      "outputs": []
    },
    {
      "cell_type": "code",
      "source": [
        "model.compile(optimizer=SGD(learning_rate=1e-2), loss='mse')\n",
        "model.summary()"
      ],
      "metadata": {
        "id": "EkfI03yw4eO0"
      },
      "execution_count": null,
      "outputs": []
    },
    {
      "cell_type": "code",
      "source": [
        "hist = model.fit(x_data, t_data, epochs=1000)"
      ],
      "metadata": {
        "id": "AH9lNem54eSJ"
      },
      "execution_count": null,
      "outputs": []
    },
    {
      "cell_type": "code",
      "source": [
        "test_data = [ [5,5,0], [2,3,1], [-1,0,-1], [10,5,2], [4,-1,-2] ]\n",
        "ret_val = [ 2*data[0] - 3*data[1] + 2*data[2] for data in test_data]\n",
        "prediction_val = model.predict(np.array(test_data))\n",
        "print(prediction_val)\n",
        "print('===========================')\n",
        "print(ret_val)"
      ],
      "metadata": {
        "id": "_FZK_n5U4eU3"
      },
      "execution_count": null,
      "outputs": []
    },
    {
      "cell_type": "code",
      "source": [
        "print(model.input) # 모델 입력\n",
        "print(model.output) # 모델 출력\n",
        "print(model.weights) # 모델 가중치"
      ],
      "metadata": {
        "id": "zpM9TlLk4eXa"
      },
      "execution_count": null,
      "outputs": []
    },
    {
      "cell_type": "code",
      "source": [
        "import matplotlib.pyplot as plt"
      ],
      "metadata": {
        "id": "BQ5QrtS94eaF"
      },
      "execution_count": null,
      "outputs": []
    },
    {
      "cell_type": "code",
      "source": [
        "plt.title('Loss Trend')\n",
        "plt.xlabel('epochs')\n",
        "plt.ylabel('loss')\n",
        "plt.grid()\n",
        "\n",
        "plt.plot(hist.history['loss'], label='train loss')\n",
        "plt.legend(loc='best')\n",
        "\n",
        "plt.show()"
      ],
      "metadata": {
        "id": "XYGqEaYF4edi"
      },
      "execution_count": null,
      "outputs": []
    }
  ]
}