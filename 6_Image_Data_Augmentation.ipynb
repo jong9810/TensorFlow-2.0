{
  "nbformat": 4,
  "nbformat_minor": 0,
  "metadata": {
    "colab": {
      "name": "6. Image Data Augmentation.ipynb",
      "private_outputs": true,
      "provenance": [],
      "collapsed_sections": [],
      "authorship_tag": "ABX9TyN3bUdWw8rP8QBFp9QdxUmv",
      "include_colab_link": true
    },
    "kernelspec": {
      "name": "python3",
      "display_name": "Python 3"
    },
    "language_info": {
      "name": "python"
    }
  },
  "cells": [
    {
      "cell_type": "markdown",
      "metadata": {
        "id": "view-in-github",
        "colab_type": "text"
      },
      "source": [
        "<a href=\"https://colab.research.google.com/github/jong9810/TensorFlow-2.0/blob/main/6_Image_Data_Augmentation.ipynb\" target=\"_parent\"><img src=\"https://colab.research.google.com/assets/colab-badge.svg\" alt=\"Open In Colab\"/></a>"
      ]
    },
    {
      "cell_type": "markdown",
      "source": [
        "# 6. Image Data Augmentation\n",
        "- 원본 이미지에 적절한 변형을 가해서 새로운 데이터를 만들어 내는 방식.\n",
        "- 원본 이미지를 상하좌우 방향으로 조금 이동하거나 회전, 기울임, 확대 등의 여러가지 변환을 조합해 이미지 데이터의 개수를 증가시킴.\n",
        "\n",
        "### Image Data Augmentation 장점\n",
        "- 다양한 데이터를 입력시킴으로써 모델을 더욱 견고하게 만들어주기 때문에 실제 데이터를 가지고 테스트 시에 더 높은 성능을 기대할 수 있음.\n",
        "- CNN 모델을 학습시키기에 수집된 데이터가 모자랄 경우 사용하기에 좋은 방법임."
      ],
      "metadata": {
        "id": "fxUEbTCsUzq8"
      }
    },
    {
      "cell_type": "markdown",
      "source": [
        "# Keras - ImageDataGenerator\n",
        "- 이미지 데이터 보강을 위한 클래스\n",
        "- flow(), flow_from_directory() 등의 함수를 통해 이미지 데이터를 보강할 수 있음.\n",
        "\n",
        "### ImageData Generator 주요 인자\n",
        "1. rotation_range : 회전\n",
        "1. width_shift_range : 좌우 이동\n",
        "1. height_shift_range : 상하 이동\n",
        "1. rescale : 크기 변화\n",
        "1. shear_range : 기울임\n",
        "1. horizontal_flip : 좌우 반전\n",
        "1. vertical_flip : 상하 반전"
      ],
      "metadata": {
        "id": "XjHABUOyU37G"
      }
    },
    {
      "cell_type": "markdown",
      "source": [
        "# ImageDataGenerator 사용법\n",
        "1. ImageDataGenerator 객체 생성\n",
        "- 함수를 이용해 데이터 변형 방식을 설정해줌.\n",
        "\n",
        "- 예시) gen = ImageDataGenerator(rotation_range=30, horizontal_flip=True, rescale=1./255)\n",
        "- : 30도 범위에서 회전, 좌우 반전 시도, 색상의 최대값 255로 나누어 정규화)\n",
        "\n",
        "2. 이미지 로드 및 정규화\n",
        "- 참고) load_img()함수는 리턴 타입이 JPegImageFile이므로 img_to_array() 함수를 이용하여 numpy 타입으로 변환해야함.\n",
        "- load_img() 또는 cifar10.load_data() 등을 이용하여 로드\n",
        "- 데이터를 1./255 이용하여 0 ~ 1 값으로 정규화\n",
        "\n",
        "3. flow() 또는 flow_from_directory() 적용\n",
        "- flow()함수 : 주어진 데이터에서 batch_size에 지정된 개수만큼 무작위로 뽑아 변형을 가하라는 의미\n",
        "- flow_from_directory()함수 : 주어진 dir_path에서 batch_size만큼 읽어서 변형을 가함. 정답(label)은 dir_path의 하위 디렉토리 이름으로 인식되며 class_mode로 지정된 binary, sparse, categorical과 같은 형태로 표현됨\n",
        "\n",
        "- 예시1) data_gen = gen.flow(xdata, tdata, batch_size=)\n",
        "- 예시2) data_gen = gen.flow_from_directory(dir_path, batch_size=, class_mode='')\n",
        "\n",
        "4. next() 실행\n",
        "- next()함수를 실행할 때마다 flow()함수 또는 flow_from_directory()함수에서 지정한 batch_size만큼의 변형된 데이터(img)와 정답(label)이 리턴됨.\n",
        "\n",
        "- 예시) img, label = data_gen.next()\n",
        "- 참고) img.shape = (batch_size, height, width, channel)\n"
      ],
      "metadata": {
        "id": "wdh1ca8HU3-Y"
      }
    },
    {
      "cell_type": "code",
      "source": [
        "import numpy as np\n",
        "import tensorflow as tf\n",
        "import matplotlib.pyplot as plt\n",
        "\n",
        "from tensorflow.keras.preprocessing.image import load_img\n",
        "from tensorflow.keras.preprocessing.image import img_to_array\n",
        "from tensorflow.keras.preprocessing.image import ImageDataGenerator\n",
        "\n",
        "tf.__version__"
      ],
      "metadata": {
        "id": "-Mp2jee2U4BV"
      },
      "execution_count": null,
      "outputs": []
    },
    {
      "cell_type": "code",
      "source": [
        "gen = ImageDataGenerator(rotation_range=30, width_shift_range=0.3, shear_range=0.4, horizontal_flip=True)\n",
        "# 30도 범위에서 회전, 가로 방향으로 30%범위에서 이동, 이미지 기울임은 40% 범위에서 기울임, 좌우 반전 가능"
      ],
      "metadata": {
        "id": "ZcsETWf2U4Ek"
      },
      "execution_count": null,
      "outputs": []
    },
    {
      "cell_type": "code",
      "source": [
        "# 구글 드라이브를 구글 코랩에 마운트 시킴\n",
        "from google.colab import drive\n",
        "drive.mount('/content/gdrive')"
      ],
      "metadata": {
        "id": "0P9ffWlHjmTg"
      },
      "execution_count": null,
      "outputs": []
    },
    {
      "cell_type": "code",
      "source": [
        "img_array_list = []\n",
        "img_names = ['/content/gdrive/My Drive/Colab Notebooks/dog1.jpg', '/content/gdrive/My Drive/Colab Notebooks/dog2.jpg', '/content/gdrive/My Drive/Colab Notebooks/cat1.jpg', '/content/gdrive/My Drive/Colab Notebooks/cat2.jpg']\n",
        "\n",
        "for i in range(len(img_names)):\n",
        "    loaded_img = load_img(img_names[i], target_size=(100,100))\n",
        "\n",
        "    loaded_img_array = img_to_array(loaded_img) / 255.0\n",
        "\n",
        "    img_array_list.append(loaded_img_array)\n",
        "\n",
        "plt.figure(figsize=(6,6))\n",
        "for i in range(len(img_array_list)):\n",
        "    plt.subplot(1, len(img_array_list), i+1)\n",
        "    plt.xticks([]); plt.yticks([])\n",
        "    plt.title(img_names[i][-8:])\n",
        "    plt.imshow(img_array_list[i])"
      ],
      "metadata": {
        "id": "YKD6PJ10U4Hx"
      },
      "execution_count": null,
      "outputs": []
    },
    {
      "cell_type": "code",
      "source": [
        "# flow() 함수에 입력으로 주어지는 이미지 데이터는 반드시 (전체 데이터 개수, 높이, 너비, 채널)의 4차원 텐서로 입력해주어야 함\n",
        "print(np.array(img_array_list).shape)"
      ],
      "metadata": {
        "id": "PZz0GMlUlnnW"
      },
      "execution_count": null,
      "outputs": []
    },
    {
      "cell_type": "code",
      "source": [
        "batch_siz = 2\n",
        "data_gen = gen.flow(np.array(img_array_list), batch_size=batch_siz)"
      ],
      "metadata": {
        "id": "vljOImugU4K3"
      },
      "execution_count": null,
      "outputs": []
    },
    {
      "cell_type": "code",
      "source": [
        "img = data_gen.next()\n",
        "\n",
        "plt.figure(figsize=(6,6))\n",
        "for i in range(len(img)):\n",
        "    plt.subplot(1, len(img), i+1)\n",
        "    plt.xticks([]); plt.yticks([])\n",
        "    plt.imshow(img[i])"
      ],
      "metadata": {
        "id": "HK1wUYeCmreV"
      },
      "execution_count": null,
      "outputs": []
    },
    {
      "cell_type": "code",
      "source": [
        "img = data_gen.next()\n",
        "\n",
        "plt.figure(figsize=(6,6))\n",
        "for i in range(len(img)):\n",
        "    plt.subplot(1, len(img), i+1)\n",
        "    plt.xticks([]); plt.yticks([])\n",
        "    plt.imshow(img[i])"
      ],
      "metadata": {
        "id": "ssq4EPDUmriF"
      },
      "execution_count": null,
      "outputs": []
    },
    {
      "cell_type": "code",
      "source": [
        "img = data_gen.next()\n",
        "\n",
        "plt.figure(figsize=(6,6))\n",
        "for i in range(len(img)):\n",
        "    plt.subplot(1, len(img), i+1)\n",
        "    plt.xticks([]); plt.yticks([])\n",
        "    plt.imshow(img[i])"
      ],
      "metadata": {
        "id": "VZYGCvZvmrkw"
      },
      "execution_count": null,
      "outputs": []
    },
    {
      "cell_type": "code",
      "source": [
        "batch_siz = 4\n",
        "data_gen = gen.flow(np.array(img_array_list), batch_size=batch_siz)\n",
        "\n",
        "img = data_gen.next()\n",
        "\n",
        "plt.figure(figsize=(6,6))\n",
        "for i in range(len(img)):\n",
        "    plt.subplot(1, len(img), i+1)\n",
        "    plt.xticks([]); plt.yticks([])\n",
        "    plt.imshow(img[i])"
      ],
      "metadata": {
        "id": "nDEEUIGtnqH4"
      },
      "execution_count": null,
      "outputs": []
    },
    {
      "cell_type": "markdown",
      "source": [
        "### flow_from_directory() 함수 예제"
      ],
      "metadata": {
        "id": "O5rMoDRknyAB"
      }
    },
    {
      "cell_type": "code",
      "source": [
        "gen = ImageDataGenerator(rotation_range=30, width_shift_range=0.3, shear_range=0.3, rescale=1./255)"
      ],
      "metadata": {
        "id": "3qO9-ZnRnyE1"
      },
      "execution_count": null,
      "outputs": []
    },
    {
      "cell_type": "code",
      "source": [
        "data_path = '/content/gdrive/My Drive/Colab Notebooks/dataset/test_dir/'\n",
        "batch_siz = 3\n",
        "data_gen = gen.flow_from_directory(directory=data_path, batch_size=batch_siz, shuffle=True, target_size=(100,100), class_mode='categorical')\n",
        "# flow_from_directory() 함수는 이미지를 불러올 때, 주어진 디렉토리의 하위 디렉토리 이름에 맞춰 자동으로 labelling 해줌\n",
        "# class_mode 인자는 정답을 나타내는 방식을 나타냄\n",
        "# 'binary' : 정답을 0 또는 1로 나타냄 (이항 분류)\n",
        "# 'categorical' : 정답을 one-hot encoding 방식으로 나타냄 (10진수 형태)\n",
        "# 'sparse' : 정답을 10진수 형태로 나타냄"
      ],
      "metadata": {
        "id": "jo89N6qinyII"
      },
      "execution_count": null,
      "outputs": []
    },
    {
      "cell_type": "code",
      "source": [
        "img, label = data_gen.next()\n",
        "\n",
        "plt.figure(figsize=(6,6))\n",
        "for i in range(len(img)):\n",
        "    plt.subplot(1, len(img), i+1)\n",
        "    plt.xticks([]); plt.yticks([])\n",
        "    plt.imshow(img[i])"
      ],
      "metadata": {
        "id": "qMXM5X7GnyLE"
      },
      "execution_count": null,
      "outputs": []
    },
    {
      "cell_type": "code",
      "source": [
        "batch_siz = 3\n",
        "data_gen = gen.flow_from_directory(directory=data_path, shuffle=True, batch_size=batch_siz, target_size=(100, 100), class_mode='categorical')\n",
        "\n",
        "plt.figure(figsize=(6,6))\n",
        "img, label = data_gen.next()\n",
        "for i in range(len(img)):\n",
        "    plt.subplot(1, len(img), i+1)\n",
        "    plt.xticks([]); plt.yticks([])\n",
        "    # plt.title(label[i])  # 원핫 인코딩 형태로 출력됨 (이 예시의 경우 1 * 3 의 행렬 형태로 출력됨 <<- 정답이 고양이, 개, 사슴으로 3개이기 때문)\n",
        "    plt.imshow(img[i])"
      ],
      "metadata": {
        "id": "QbKok0MlnyOZ"
      },
      "execution_count": null,
      "outputs": []
    },
    {
      "cell_type": "code",
      "source": [
        "img, label = data_gen.next()\n",
        "\n",
        "plt.figure(figsize=(6,6))\n",
        "for i in range(len(img)):\n",
        "    plt.subplot(1, len(img), i+1)\n",
        "    plt.xticks([]); plt.yticks([])\n",
        "    plt.imshow(img[i])"
      ],
      "metadata": {
        "id": "33V2GJQOnyR0"
      },
      "execution_count": null,
      "outputs": []
    },
    {
      "cell_type": "code",
      "source": [
        "img, label = data_gen.next()\n",
        "for i in range(len(img)):\n",
        "    plt.subplot(1, len(img), i+1)\n",
        "    plt.xticks([]); plt.yticks([])\n",
        "\n",
        "    plt.title(str(np.argmax(label[i])))\n",
        "\n",
        "    plt.imshow(img[i])"
      ],
      "metadata": {
        "id": "TQvzZ-nznyU9"
      },
      "execution_count": null,
      "outputs": []
    },
    {
      "cell_type": "code",
      "source": [
        "img, label = data_gen.next()\n",
        "for i in range(len(img)):\n",
        "    plt.subplot(1, len(img), i+1)\n",
        "    plt.xticks([]); plt.yticks([])\n",
        "\n",
        "    plt.title(str(np.argmax(label[i])))\n",
        "\n",
        "    plt.imshow(img[i])"
      ],
      "metadata": {
        "id": "4b8Yf1JMnyXq"
      },
      "execution_count": null,
      "outputs": []
    }
  ]
}