{
  "nbformat": 4,
  "nbformat_minor": 0,
  "metadata": {
    "colab": {
      "name": "10-3. Transfer Learning Ex2.ipynb",
      "private_outputs": true,
      "provenance": [],
      "collapsed_sections": [],
      "authorship_tag": "ABX9TyNwAUDA8T/VJwmazjyt5nxG",
      "include_colab_link": true
    },
    "kernelspec": {
      "name": "python3",
      "display_name": "Python 3"
    },
    "language_info": {
      "name": "python"
    }
  },
  "cells": [
    {
      "cell_type": "markdown",
      "metadata": {
        "id": "view-in-github",
        "colab_type": "text"
      },
      "source": [
        "<a href=\"https://colab.research.google.com/github/jong9810/TensorFlow-2.0/blob/main/10_3_Transfer_Learning_Ex2.ipynb\" target=\"_parent\"><img src=\"https://colab.research.google.com/assets/colab-badge.svg\" alt=\"Open In Colab\"/></a>"
      ]
    },
    {
      "cell_type": "markdown",
      "source": [
        "# Transfer Learning Ex2 : 나만의 이미지 분류 시스템 구현\n",
        "- 강아지 품종 (치와와, 요크셔테리어, 진돗개, 셰퍼드)]\n",
        "- 다양한 해상도와 크기를 가지는 이미지 데이터 (노이즈 포함)\n"
      ],
      "metadata": {
        "id": "44w8oD6zulao"
      }
    },
    {
      "cell_type": "markdown",
      "source": [
        "### 나만의 이미지로 Training Data 만드는 과정\n",
        "1. 먼저 dog_image/train 과 같은 임의의 이름을 가지는 루트 디렉토리를 만든 다음, 이러한 루트 디렉토리의 하위 디렉토리로 우리가 분류하고자 하는 이미지의 정답을 나타내는 디렉토리를 생성한다. (hihuahua, jindo_dog, shepherd, yorkshire_terrier와 같은 디렉토리를 생성)\n",
        "1. 이러한 이미지 정답을 나타내는 각 디렉토리 안에 직접 찍은 사진이나 인터넷에서 다운받은 파일을 최소 100개 이상 저장해 놓는다.\n",
        "1. ImageDataGenerator.flow_from_directory() 함수를 이용해 데이터를 읽어온다."
      ],
      "metadata": {
        "id": "ZezSr9WHuxVJ"
      }
    },
    {
      "cell_type": "markdown",
      "source": [
        ""
      ],
      "metadata": {
        "id": "pnETFlV5-fTv"
      }
    },
    {
      "cell_type": "code",
      "source": [
        "import tensorflow as tf\n",
        "import numpy as np\n",
        "import pandas as pd\n",
        "import matplotlib.pyplot as plt\n",
        "\n",
        "tf.__version__"
      ],
      "metadata": {
        "id": "FJz-Vzgwuxi8"
      },
      "execution_count": null,
      "outputs": []
    },
    {
      "cell_type": "code",
      "source": [
        "from tensorflow.keras.models import Sequential, Model\n",
        "from tensorflow.keras.layers import Dense, Dropout, Input\n",
        "from tensorflow.keras.applications import MobileNet\n",
        "from tensorflow.keras.layers import Flatten, Conv2D, MaxPooling2D\n",
        "from tensorflow.keras.preprocessing.image import ImageDataGenerator"
      ],
      "metadata": {
        "id": "xnG4dwlNuysg"
      },
      "execution_count": null,
      "outputs": []
    },
    {
      "cell_type": "code",
      "source": [
        "from google.colab import drive\n",
        "drive.mount('/content/gdrive/')"
      ],
      "metadata": {
        "id": "BQhA1-tAuyv2"
      },
      "execution_count": null,
      "outputs": []
    },
    {
      "cell_type": "code",
      "source": [
        "# 파일 다운로드\n",
        "import shutil\n",
        "# 구글 드라이브에 있는 이미지 압축파일을 Colab으로 복사시킴\n",
        "shutil.copy('/content/gdrive/My Drive/Colab Notebooks/dataset/dog_image.zip', '/content/')"
      ],
      "metadata": {
        "id": "7FZZUmtCuyzC"
      },
      "execution_count": null,
      "outputs": []
    },
    {
      "cell_type": "code",
      "source": [
        "root_dir = '/content'\n",
        "\n",
        "import os\n",
        "import shutil\n",
        "\n",
        "if os.path.exists(os.path.join(root_dir, 'dog_image')):\n",
        "    shutil.rmtree(os.path.join(root_dir, 'dog_image'))"
      ],
      "metadata": {
        "id": "ECgNwL55uy2g"
      },
      "execution_count": null,
      "outputs": []
    },
    {
      "cell_type": "code",
      "source": [
        "import zipfile\n",
        "\n",
        "# 압축 파일을 찾아서 압축을 풀어줌\n",
        "with zipfile.ZipFile(os.path.join(root_dir, 'dog_image.zip'), 'r') as target_file:\n",
        "    target_file.extractall(os.path.join(root_dir, 'dog_image'))"
      ],
      "metadata": {
        "id": "AnZY5nBJuy5e"
      },
      "execution_count": null,
      "outputs": []
    },
    {
      "cell_type": "code",
      "source": [
        "import os\n",
        "import shutil\n",
        "\n",
        "# test 디렉토리 생성\n",
        "if not os.path.exists(os.path.join(root_dir, 'dog_image/test')):\n",
        "    os.mkdir(os.path.join(root_dir, 'dog_image/test'))\n",
        "\n",
        "# test_image_files 디렉토리 생성\n",
        "if not os.path.exists(os.path.join(root_dir, 'dog_image/test_image_files')):\n",
        "    os.mkdir(os.path.join(root_dir, 'dog_image/test_image_files'))"
      ],
      "metadata": {
        "id": "ywFD4b4-uy8w"
      },
      "execution_count": null,
      "outputs": []
    },
    {
      "cell_type": "code",
      "source": [
        "import os\n",
        "import glob\n",
        "import shutil\n",
        "\n",
        "ratio = 0.1 # train : test = 9 : 1\n",
        "\n",
        "# src : source (=train), dst : destination (=test) 의 줄임말\n",
        "src_root_dir = os.path.join(root_dir, 'dog_image/train/')\n",
        "dst_root_dir = os.path.join(root_dir, 'dog_image/test/')\n",
        "\n",
        "# 정답(label)을 리스트 형식으로 label_name_list 변수에 저장\n",
        "label_name_list = os.listdir(src_root_dir)\n",
        "\n",
        "for label_name in label_name_list: \n",
        "    dst_label_name_dir = dst_root_dir + label_name # 정답(label)으로 디렉토리 이름 정의\n",
        "\n",
        "    # test 디렉토리에 label 디렉토리를 생성\n",
        "    if not os.path.exists(dst_label_name_dir):\n",
        "        os.mkdir(dst_label_name_dir)\n",
        "\n",
        "for label_name in label_name_list:\n",
        "    # src_root_dir/정답(label) 디렉토리에 있는 파일을 모두 train_image_file_list 변수에 저장\n",
        "    train_image_file_list = glob.glob(src_root_dir + label_name + '/*')\n",
        "    split_num = int(ratio * len(train_image_file_list)) # 학습 데이터 이미지 중 테스트 데이터로 옮길 이미지 개수\n",
        "    test_image_file_list = train_image_file_list[0:split_num]\n",
        "\n",
        "    # 파일 옮기기 : src_dir -> dst dir\n",
        "    for image_file in test_image_file_list:\n",
        "        shutil.move(image_file, dst_root_dir + label_name)"
      ],
      "metadata": {
        "id": "fLP-IkBbuy_q"
      },
      "execution_count": null,
      "outputs": []
    },
    {
      "cell_type": "code",
      "source": [
        "# test 디렉토리 파일 -> test_image_files 디렉토리로 복사\n",
        "# 이유 ; 학습을 모두 마친 이후에 테스트하고 싶은 이미지를 랜덤하게 좀더 쉽게 선택하기 위해서\n",
        "import os\n",
        "import glob\n",
        "import shutil\n",
        "\n",
        "src_root_dir = os.path.join(root_dir, 'dog_image/test/')\n",
        "dst_root_dir = os.path.join(root_dir, 'dog_image/test_image_files/')\n",
        "\n",
        "label_name_list = os.listdir(src_root_dir)\n",
        "\n",
        "for label_name in label_name_list:\n",
        "    image_file_list = glob.glob(src_root_dir + label_name + '/*')\n",
        "    print('total [{0}] image file nums => [{1}]'.format(label_name, len(image_file_list)))\n",
        "\n",
        "    copy_nums = 0\n",
        "\n",
        "    for image_file in image_file_list:\n",
        "        shutil.copy(image_file, dst_root_dir) # copy\n",
        "        copy_nums = copy_nums + 1\n",
        "\n",
        "    print('total copy nums =>', copy_nums)"
      ],
      "metadata": {
        "id": "zT2EvK8KuzCd"
      },
      "execution_count": null,
      "outputs": []
    },
    {
      "cell_type": "code",
      "source": [
        "# ImageDataGenerator 정의\n",
        "IMG_WIDTH = 224\n",
        "IMG_HEIGHT = 224\n",
        "\n",
        "train_dir = os.path.join(root_dir, 'dog_image/train/')\n",
        "validation_dir = os.path.join(root_dir, 'dog_image/train/')\n",
        "test_dir = os.path.join(root_dir, 'dog_image/test/')"
      ],
      "metadata": {
        "id": "ffuh34HyuzFd"
      },
      "execution_count": null,
      "outputs": []
    },
    {
      "cell_type": "code",
      "source": [
        "train_datagen = ImageDataGenerator(rescale=1./255, rotation_range=20, width_shift_range=0.2, height_shift_range=0.2, shear_range=0.2, zoom_range=0.2, validation_split=0.15)\n",
        "validation_datagen = ImageDataGenerator(rescale=1./255, validation_split=0.15)\n",
        "# validation_split=0.15 : train 데이터로부터 15%비율로 validation data 생성"
      ],
      "metadata": {
        "id": "PYCsHz-0uzH_"
      },
      "execution_count": null,
      "outputs": []
    },
    {
      "cell_type": "code",
      "source": [
        "# subset : ImageDataGenerator 객체를 정의할 때, validation_split인자에 값을 넣어주었기 때문에 subset 인자에 값을 넣어주어야 함.\n",
        "train_generator = train_datagen.flow_from_directory(train_dir, batch_size=16, color_mode='rgb', class_mode='sparse', subset='training', target_size=(IMG_WIDTH, IMG_HEIGHT))\n",
        "validation_generator = validation_datagen.flow_from_directory(validation_dir, batch_size=16, color_mode='rgb', class_mode='sparse', subset='validation', target_size=(IMG_WIDTH, IMG_HEIGHT))"
      ],
      "metadata": {
        "id": "GQ4kyGoiJp5c"
      },
      "execution_count": null,
      "outputs": []
    },
    {
      "cell_type": "code",
      "source": [
        "print(train_generator.class_indices) # 각각의 정답의 인덱스를 출력"
      ],
      "metadata": {
        "id": "G03hBud8Jp8j"
      },
      "execution_count": null,
      "outputs": []
    },
    {
      "cell_type": "code",
      "source": [
        "# 모델 구축(pre-trained MobileNet + 사용자 정의 분류기)\n",
        "base_model = MobileNet(weights='imagenet', include_top=False, input_shape=(IMG_WIDTH, IMG_HEIGHT, 3))\n",
        "\n",
        "model = Sequential()\n",
        "\n",
        "model.add(base_model)\n",
        "\n",
        "model.add(Flatten())\n",
        "\n",
        "# User-Defined Classifier\n",
        "model.add(Dense(32, activation='relu'))\n",
        "model.add(Dropout(0.25))\n",
        "model.add(Dense(4, activation='softmax'))"
      ],
      "metadata": {
        "id": "AtvrZafkJp_V"
      },
      "execution_count": null,
      "outputs": []
    },
    {
      "cell_type": "code",
      "source": [
        "model.compile(loss='sparse_categorical_crossentropy', optimizer=tf.keras.optimizers.Adam(2e-5), metrics=['accuracy'])\n",
        "# learning_rate = 2e-5 로 작게 설정 (Transfer Training의 Fine Tuning)\n",
        "model.summary()"
      ],
      "metadata": {
        "id": "IRyqCkNDJqCF"
      },
      "execution_count": null,
      "outputs": []
    },
    {
      "cell_type": "code",
      "source": [
        "from tensorflow.keras.callbacks import EarlyStopping\n",
        "\n",
        "# patience=5 : monitor인자에서 정의한 파라미터가 5번 개선되지 않을 경우 계산을 멈춤\n",
        "earlystopping = EarlyStopping(monitor='val_loss', patience=5)\n",
        "\n",
        "hist = model.fit(train_generator, validation_data=validation_generator, epochs=50, callbacks=[earlystopping])"
      ],
      "metadata": {
        "id": "VNRJEKcWJqE3"
      },
      "execution_count": null,
      "outputs": []
    },
    {
      "cell_type": "code",
      "source": [
        "plt.plot(hist.history['loss'], label='train')\n",
        "plt.plot(hist.history['val_loss'], label='validation')\n",
        "\n",
        "plt.title('Loss Trend')\n",
        "plt.xlabel('epochs')\n",
        "plt.ylabel('loss')\n",
        "plt.legend(loc='best')\n",
        "plt.grid()\n",
        "plt.show()"
      ],
      "metadata": {
        "id": "_4_QbZfNJqHw"
      },
      "execution_count": null,
      "outputs": []
    },
    {
      "cell_type": "code",
      "source": [
        "plt.plot(hist.history['accuracy'], label='train')\n",
        "plt.plot(hist.history['val_accuracy'], label='validation')\n",
        "\n",
        "plt.title('Accuracy Trend')\n",
        "plt.xlabel('epochs')\n",
        "plt.ylabel('accuracy')\n",
        "plt.legend(loc='best')\n",
        "plt.grid()\n",
        "plt.show()"
      ],
      "metadata": {
        "id": "SS0yV1FKJqKp"
      },
      "execution_count": null,
      "outputs": []
    },
    {
      "cell_type": "code",
      "source": [
        "# 테스트 이미지 파일 생성\n",
        "import random\n",
        "import os\n",
        "import numpy as np\n",
        "import cv2\n",
        "import glob\n",
        "\n",
        "label_dict = {'chihuahua': 0, 'jindo_dog': 1, 'shepherd': 2, 'yorkshire_terrier': 3}\n",
        "\n",
        "# 테스트 이미지 파일 이름 목록\n",
        "test_image_files_list = glob.glob(root_dir + '/dog_image/test_image_files/*.jpg')\n",
        "\n",
        "random.shuffle(test_image_files_list)\n",
        "\n",
        "# 테스트 할 이미지 파일 이름 : 정답.숫자.jpg\n",
        "test_num = 16\n",
        "test_image_files = test_image_files_list[:test_num]\n",
        "\n",
        "# test_image_files 리스트에서 각 이미지에 대해 정답을 label_list에 저장\n",
        "label_list = []\n",
        "for i in range(len(test_image_files)):\n",
        "    label = test_image_files[i].split('/')[-1].split('.')[0].strip() # .strip() : 문자열의 공백을 제거\n",
        "    label_list.append(label_dict[label])\n",
        "\n",
        "# 테스트에 사용할 이미지를 불러와서 src_img_list에 저장\n",
        "src_img_list = []\n",
        "for i in range(len(test_image_files)):\n",
        "    src_img = cv2.imread(test_image_files[i], cv2.IMREAD_COLOR)\n",
        "    src_img = cv2.resize(src_img, dsize=(IMG_WIDTH, IMG_HEIGHT))\n",
        "    src_img = cv2.cvtColor(src_img, cv2.COLOR_BGR2RGB)\n",
        "    src_img = src_img / 255.0\n",
        "\n",
        "    src_img_list.append(src_img)\n",
        "\n",
        "# 4차원 텐서 변환\n",
        "src_img_array = np.array(src_img_list)\n",
        "label_array = np.array(label_list)"
      ],
      "metadata": {
        "id": "Cfz7DGDbJqNR"
      },
      "execution_count": null,
      "outputs": []
    },
    {
      "cell_type": "code",
      "source": [
        "pred = model.predict(src_img_array)\n",
        "print(pred.shape)\n",
        "print(pred)"
      ],
      "metadata": {
        "id": "69213Pa-JqP9"
      },
      "execution_count": null,
      "outputs": []
    },
    {
      "cell_type": "code",
      "source": [
        "class_names = ['chihuahua', 'jindo_dog', 'shepherd', 'yorkshire_terrier']\n",
        "plt.figure(figsize=(12,12))\n",
        "for pos in range(len(pred)):\n",
        "    plt.subplot(4, 4, pos+1)\n",
        "    plt.axis('off')\n",
        "\n",
        "    label_str = class_names[label_array[pos]]\n",
        "    pred_str = class_names[np.argmax(pred[pos])] # 'softmax' 출력이므로 argmax를 통해 인덱스 추출 (softmax는 확률값을 저장)\n",
        "\n",
        "    plt.title('label : ' + label_str + '\\npred : ' + pred_str)\n",
        "\n",
        "    plt.imshow(src_img_array[pos])\n",
        "\n",
        "plt.tight_layout()\n",
        "plt.show()"
      ],
      "metadata": {
        "id": "uiOmibggJqSS"
      },
      "execution_count": null,
      "outputs": []
    }
  ]
}