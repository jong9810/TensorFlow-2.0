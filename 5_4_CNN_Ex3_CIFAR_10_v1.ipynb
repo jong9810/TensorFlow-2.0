{
  "nbformat": 4,
  "nbformat_minor": 0,
  "metadata": {
    "colab": {
      "name": "5-4. CNN Ex3-CIFAR 10_v1.ipynb",
      "private_outputs": true,
      "provenance": [],
      "collapsed_sections": [],
      "authorship_tag": "ABX9TyO2ZFSIB4DCYP1ApEn7+K1D",
      "include_colab_link": true
    },
    "kernelspec": {
      "name": "python3",
      "display_name": "Python 3"
    },
    "language_info": {
      "name": "python"
    }
  },
  "cells": [
    {
      "cell_type": "markdown",
      "metadata": {
        "id": "view-in-github",
        "colab_type": "text"
      },
      "source": [
        "<a href=\"https://colab.research.google.com/github/jong9810/TensorFlow-2.0/blob/main/5_4_CNN_Ex3_CIFAR_10_v1.ipynb\" target=\"_parent\"><img src=\"https://colab.research.google.com/assets/colab-badge.svg\" alt=\"Open In Colab\"/></a>"
      ]
    },
    {
      "cell_type": "markdown",
      "source": [
        "# CNN Ex3 : CIFAR 10"
      ],
      "metadata": {
        "id": "PLYD74JCF35r"
      }
    },
    {
      "cell_type": "markdown",
      "source": [
        "### CIFAR 10 데이터 : \n",
        "- 0 : airplane\n",
        "- 1 : automobile\n",
        "- 2 : bird\n",
        "- 3 : cat\n",
        "- 4 : deer\n",
        "- 5 : dog\n",
        "- 6 : frog\n",
        "- 7 : horse\n",
        "- 8 : ship\n",
        "- 9 : truck"
      ],
      "metadata": {
        "id": "8a7gqBXQH4T6"
      }
    },
    {
      "cell_type": "code",
      "source": [
        "import numpy as np\n",
        "import tensorflow as tf\n",
        "import matplotlib.pyplot as plt\n",
        "\n",
        "from tensorflow.keras.models import Sequential\n",
        "from tensorflow.keras.layers import Conv2D, MaxPool2D, Dropout, Flatten, Dense\n",
        "from tensorflow.keras.datasets import cifar10\n",
        "\n",
        "tf.__version__"
      ],
      "metadata": {
        "id": "zV-HRWKTGB6P"
      },
      "execution_count": null,
      "outputs": []
    },
    {
      "cell_type": "code",
      "source": [
        "(x_train, t_train), (x_test, t_test) = cifar10.load_data()\n",
        "\n",
        "x_train = x_train.reshape(-1,32,32,3)\n",
        "x_test = x_test.reshape(-1,32,32,3)\n",
        "\n",
        "print(x_train.shape, t_train.shape)\n",
        "print(x_test.shape, t_test.shape)"
      ],
      "metadata": {
        "id": "T9RbNyP0GB9p"
      },
      "execution_count": null,
      "outputs": []
    },
    {
      "cell_type": "code",
      "source": [
        "x_train = x_train.astype(np.float32) / 255.0\n",
        "x_test = x_test.astype(np.float32) / 255.0"
      ],
      "metadata": {
        "id": "MVJVKLPnGCAu"
      },
      "execution_count": null,
      "outputs": []
    },
    {
      "cell_type": "code",
      "source": [
        "from tensorflow.keras.optimizers import Adam"
      ],
      "metadata": {
        "id": "L9Wd32W-GCD1"
      },
      "execution_count": null,
      "outputs": []
    },
    {
      "cell_type": "code",
      "source": [
        "cnn = Sequential()\n",
        "\n",
        "cnn.add(Conv2D(input_shape=(32,32,3), activation='relu', kernel_size=(3,3), filters=32))\n",
        "cnn.add(Conv2D(activation='relu', kernel_size=(3,3), filters=64))\n",
        "cnn.add(MaxPool2D(pool_size=(2,2)))\n",
        "cnn.add(Dropout(0.25))\n",
        "\n",
        "cnn.add(Flatten())\n",
        "cnn.add(Dense(128, activation='relu'))\n",
        "cnn.add(Dropout(0.5))\n",
        "cnn.add(Dense(10, activation='softmax'))"
      ],
      "metadata": {
        "id": "4WTJLY09GCHM"
      },
      "execution_count": null,
      "outputs": []
    },
    {
      "cell_type": "code",
      "source": [
        "from tensorflow.keras.optimizers import Adam"
      ],
      "metadata": {
        "id": "12xz2c9ZGCKG"
      },
      "execution_count": null,
      "outputs": []
    },
    {
      "cell_type": "code",
      "source": [
        "cnn.compile(optimizer=Adam(), loss='sparse_categorical_crossentropy', metrics=['accuracy'])\n",
        "cnn.summary()"
      ],
      "metadata": {
        "id": "Yc2DUIO7GCM8"
      },
      "execution_count": null,
      "outputs": []
    },
    {
      "cell_type": "code",
      "source": [
        "hist = cnn.fit(x_train, t_train, validation_data=(x_test, t_test), batch_size=128, epochs=30)"
      ],
      "metadata": {
        "id": "-ugs6_GhGCPk"
      },
      "execution_count": null,
      "outputs": []
    },
    {
      "cell_type": "code",
      "source": [
        "cnn.evaluate(x_test, t_test)"
      ],
      "metadata": {
        "id": "Zy6puMljGCSS"
      },
      "execution_count": null,
      "outputs": []
    },
    {
      "cell_type": "code",
      "source": [
        "plt.title('Accuracy Trend')\n",
        "plt.xlabel('epochs')\n",
        "plt.ylabel('accuracy')\n",
        "plt.grid()\n",
        "\n",
        "plt.plot(hist.history['accuracy'], label='train')\n",
        "plt.plot(hist.history['val_accuracy'], label='validation')\n",
        "\n",
        "plt.legend(loc='best')\n",
        "plt.show()"
      ],
      "metadata": {
        "id": "fu0lYbdlGCU4"
      },
      "execution_count": null,
      "outputs": []
    },
    {
      "cell_type": "code",
      "source": [
        "plt.title('Loss Trend')\n",
        "plt.xlabel('epochs')\n",
        "plt.ylabel('loss')\n",
        "plt.grid()\n",
        "\n",
        "plt.plot(hist.history['loss'], label='train')\n",
        "plt.plot(hist.history['val_loss'], label='validation')\n",
        "\n",
        "plt.legend(loc='best')\n",
        "plt.show()"
      ],
      "metadata": {
        "id": "KACply8lGCXn"
      },
      "execution_count": null,
      "outputs": []
    },
    {
      "cell_type": "code",
      "source": [
        "# cnn.predict()"
      ],
      "metadata": {
        "id": "CQ7kVSwwGCtl"
      },
      "execution_count": null,
      "outputs": []
    },
    {
      "cell_type": "markdown",
      "source": [
        "## CNN 성능 향상 (오버피팅은 줄이고, 정확도는 높이는 방안)\n",
        "1. 더 많은 층 쌓기 : Architecture 관점에서 개선방안\n",
        "- 컨볼루션층이 중첩된 더 깊은 구조가 될수록 성능은 크게 개선됨.\n",
        "- 예) AlexNet(2012, 8layers), VGGNet(2014, 19layers), GoogleLeNet(2014, 22layers), ResNet(2015, 152layers) 등등\n",
        "\n",
        "2. 이미지 데이터 보강(Image Data Augmentation)\n",
        "- 딥러닝에서는 많은 학습 데이터를 사용하면 성능을 개선시킬 수 있음.\n",
        "- 기존의 (이미지)데이터가 있을 때, 해당 데이터를 원본으로 해서 다양한 변형(rotate, shear, zoom, shift, horizontal flip 등)을 주고, 이렇게 생성된 데이터를 원본 학습 데이터에 포함시켜 수많은 학습 데이터를 확보할 수 있음.\n",
        "\n",
        "3. 높은 해상도(High Resolution) 학습 데이터 확보\n",
        "- 동일한 CNN 구조라면, 상대적으로 높은 해상도의 학습 데이터를 통해 성능을 개선시킬 수 있음. \n",
        "- 예) [CIFAR10] 32 * 32 ->> [ImageNet image] 469 * 387\n",
        "\n",
        "4. L1 Norm, L2 Norm 등의 가중치 규제(Regularization), Dropout, 배치 정규화(Batch Normalization) 등을 통해 성능을 개선시킬 수 있음."
      ],
      "metadata": {
        "id": "YVPKbQIrRvbP"
      }
    }
  ]
}