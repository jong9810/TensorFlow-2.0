{
  "nbformat": 4,
  "nbformat_minor": 0,
  "metadata": {
    "colab": {
      "name": "3. Logistic Regression.ipynb",
      "private_outputs": true,
      "provenance": [],
      "collapsed_sections": [],
      "authorship_tag": "ABX9TyNlOo+ZNIQRBs+kQgGcJCDM",
      "include_colab_link": true
    },
    "kernelspec": {
      "name": "python3",
      "display_name": "Python 3"
    },
    "language_info": {
      "name": "python"
    }
  },
  "cells": [
    {
      "cell_type": "markdown",
      "metadata": {
        "id": "view-in-github",
        "colab_type": "text"
      },
      "source": [
        "<a href=\"https://colab.research.google.com/github/jong9810/TensorFlow-2.0/blob/main/3_Logistic_Regression.ipynb\" target=\"_parent\"><img src=\"https://colab.research.google.com/assets/colab-badge.svg\" alt=\"Open In Colab\"/></a>"
      ]
    },
    {
      "cell_type": "markdown",
      "source": [
        "# 3. Logistic Regression"
      ],
      "metadata": {
        "id": "ake3V1FW-lZT"
      }
    },
    {
      "cell_type": "code",
      "source": [
        "import tensorflow as tf\n",
        "import numpy as np\n",
        "import matplotlib.pyplot as plt\n",
        "import pandas as pd\n",
        "\n",
        "from tensorflow.keras.models import Sequential\n",
        "from tensorflow.keras.layers import Flatten, Dense\n",
        "from tensorflow.keras.optimizers import SGD, Adam\n",
        "\n",
        "tf.__version__"
      ],
      "metadata": {
        "id": "MAZt1EAL-tLk"
      },
      "execution_count": null,
      "outputs": []
    },
    {
      "cell_type": "code",
      "source": [
        "# Colab의 /content/gdrive/에 Google Drive를 마운트 시킴\n",
        "from google.colab import drive\n",
        "drive.mount('/content/gdrive/') "
      ],
      "metadata": {
        "id": "uwjaDdw4-tT2"
      },
      "execution_count": null,
      "outputs": []
    },
    {
      "cell_type": "code",
      "source": [
        "import os\n",
        "working_dir = 'dataset'\n",
        "\n",
        "# Google Drive에서 Colab Default Directory \n",
        "colab_default_dir = '/content/gdrive/My Drive/Colab Notebooks/' # Google Drive 마운트\n",
        "original_dir = os.getcwd() # save current dir\n",
        "\n",
        "try:\n",
        "    os.chdir(colab_default_dir) # Google Drive의 Colab 기본 디렉토리로 이동\n",
        "\n",
        "    if not os.path.exists(working_dir):\n",
        "        os.mkdir(working_dir)\n",
        "    \n",
        "    os.chdir(working_dir) # change working dir\n",
        "    print('current dir =', os.getcwd())\n",
        "    \n",
        "except Exception as err:\n",
        "    os.chdir(original_dir)\n",
        "    print(str(err))"
      ],
      "metadata": {
        "id": "lyAf6Be3-tXW"
      },
      "execution_count": null,
      "outputs": []
    },
    {
      "cell_type": "code",
      "source": [
        "try:\n",
        "    loaded_data = pd.read_csv('diabetes.csv', delimiter=',')\n",
        "\n",
        "    x_data = loaded_data.iloc[:, :-1].values\n",
        "    t_data = loaded_data.iloc[:, -1].values\n",
        "    t_data = t_data.reshape(-1,1)\n",
        "\n",
        "    print('x_data.shape =', x_data.shape)\n",
        "    print('t_data.shape =', t_data.shape)\n",
        "\n",
        "except Exception as err:\n",
        "    print(str(err))"
      ],
      "metadata": {
        "id": "WFWEMbP4-tao"
      },
      "execution_count": null,
      "outputs": []
    },
    {
      "cell_type": "code",
      "source": [
        "print(x_data[:5, :])\n",
        "print(t_data[:5, :])"
      ],
      "metadata": {
        "id": "dtkU9cXGN2PD"
      },
      "execution_count": null,
      "outputs": []
    },
    {
      "cell_type": "code",
      "source": [
        "model = Sequential()\n",
        "\n",
        "model.add(Dense(t_data.shape[1], input_shape=(x_data.shape[1], ), activation='sigmoid'))"
      ],
      "metadata": {
        "id": "bslWf1S_-ten"
      },
      "execution_count": null,
      "outputs": []
    },
    {
      "cell_type": "code",
      "source": [
        "model.compile(optimizer=SGD(learning_rate=0.01), loss='binary_crossentropy', metrics=['accuracy']) # loss : 손실함수 설정, metrics : 측정지표 설정\n",
        "model.summary()"
      ],
      "metadata": {
        "id": "ll9U6Lf1-tiD"
      },
      "execution_count": null,
      "outputs": []
    },
    {
      "cell_type": "code",
      "source": [
        "hist = model.fit(x_data, t_data, epochs=500, validation_split=0.2, verbose=2)"
      ],
      "metadata": {
        "id": "RNSXtNUz-tlW"
      },
      "execution_count": null,
      "outputs": []
    },
    {
      "cell_type": "code",
      "source": [
        "model.evaluate(x_data, t_data)"
      ],
      "metadata": {
        "id": "GLYq1O9Q-toe"
      },
      "execution_count": null,
      "outputs": []
    },
    {
      "cell_type": "code",
      "source": [
        "plt.title('Loss')\n",
        "plt.xlabel('epochs')\n",
        "plt.ylabel('loss')\n",
        "plt.grid()\n",
        "\n",
        "plt.plot(hist.history['loss'], label='train loss')\n",
        "plt.plot(hist.history['val_loss'], label='validation loss')\n",
        "\n",
        "plt.legend(loc='best')\n",
        "plt.show()"
      ],
      "metadata": {
        "id": "6HKOslWy-trk"
      },
      "execution_count": null,
      "outputs": []
    },
    {
      "cell_type": "code",
      "source": [
        "plt.title('Accuracy')\n",
        "plt.xlabel('epochs')\n",
        "plt.ylabel('accuracy')\n",
        "plt.grid()\n",
        "\n",
        "plt.plot(hist.history['accuracy'], label='train accuracy')\n",
        "plt.plot(hist.history['val_accuracy'], label='validation accuracy')\n",
        "\n",
        "plt.legend(loc='best')\n",
        "\n",
        "plt.show()"
      ],
      "metadata": {
        "id": "7IjDAP-g-tu1"
      },
      "execution_count": null,
      "outputs": []
    }
  ]
}