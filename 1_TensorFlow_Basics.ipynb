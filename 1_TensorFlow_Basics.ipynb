{
  "nbformat": 4,
  "nbformat_minor": 0,
  "metadata": {
    "colab": {
      "name": "1. TensorFlow Basics.ipynb",
      "private_outputs": true,
      "provenance": [],
      "collapsed_sections": [],
      "authorship_tag": "ABX9TyNnBsB8hvWcjmk99rkBg3EQ",
      "include_colab_link": true
    },
    "kernelspec": {
      "name": "python3",
      "display_name": "Python 3"
    },
    "language_info": {
      "name": "python"
    }
  },
  "cells": [
    {
      "cell_type": "markdown",
      "metadata": {
        "id": "view-in-github",
        "colab_type": "text"
      },
      "source": [
        "<a href=\"https://colab.research.google.com/github/jong9810/TensorFlow-2.0/blob/main/1_TensorFlow_Basics.ipynb\" target=\"_parent\"><img src=\"https://colab.research.google.com/assets/colab-badge.svg\" alt=\"Open In Colab\"/></a>"
      ]
    },
    {
      "cell_type": "markdown",
      "source": [
        "# 1. TensorFlow Basics"
      ],
      "metadata": {
        "id": "LFV1TGTcn5GU"
      }
    },
    {
      "cell_type": "code",
      "source": [
        "import tensorflow as tf\n",
        "import numpy as np\n",
        "tf.__version__"
      ],
      "metadata": {
        "id": "SJlY9pa_oePG"
      },
      "execution_count": null,
      "outputs": []
    },
    {
      "cell_type": "code",
      "source": [
        "a = tf.constant(10)\n",
        "b = tf.constant(20)\n",
        "\n",
        "c = a + b\n",
        "d = (a + b).numpy()\n",
        "print(type(c))\n",
        "print(c)\n",
        "print(type(d), d)\n",
        "\n",
        "d_numpy_to_tensor = tf.convert_to_tensor(d)\n",
        "print(type(d_numpy_to_tensor))\n",
        "print(d_numpy_to_tensor)"
      ],
      "metadata": {
        "id": "SsA7JpOLofEJ"
      },
      "execution_count": null,
      "outputs": []
    },
    {
      "cell_type": "code",
      "source": [
        "print(c.numpy()) # Eager Execution : Session을 생성하지 않고 파이썬 기본 문법과 비슷하게 코드를 작성"
      ],
      "metadata": {
        "id": "ShyfLltMogoY"
      },
      "execution_count": null,
      "outputs": []
    },
    {
      "cell_type": "code",
      "source": [
        "W = tf.Variable(tf.random.normal([1])) # 변수 생성\n",
        "print('initial W =', W.numpy())\n",
        "print('============================')\n",
        "for step in range(2):\n",
        "    W = W + 1.0\n",
        "    print('step =', step, 'W =', W.numpy())"
      ],
      "metadata": {
        "id": "eWiAvU4gog1z"
      },
      "execution_count": null,
      "outputs": []
    },
    {
      "cell_type": "code",
      "source": [
        "# 함수 정의 (노드)\n",
        "def tensor_sum(x, y):\n",
        "    return x + y\n",
        "\n",
        "result = tensor_sum(a, b)\n",
        "print(type(result))\n",
        "print(result.numpy())"
      ],
      "metadata": {
        "id": "4y3Hsu8Kog7f"
      },
      "execution_count": null,
      "outputs": []
    },
    {
      "cell_type": "code",
      "source": [
        ""
      ],
      "metadata": {
        "id": "JfaIUK-IohAy"
      },
      "execution_count": null,
      "outputs": []
    },
    {
      "cell_type": "code",
      "source": [
        ""
      ],
      "metadata": {
        "id": "MjGGHXI5ohGL"
      },
      "execution_count": null,
      "outputs": []
    },
    {
      "cell_type": "code",
      "source": [
        ""
      ],
      "metadata": {
        "id": "1BTHltfqohMH"
      },
      "execution_count": null,
      "outputs": []
    },
    {
      "cell_type": "code",
      "source": [
        ""
      ],
      "metadata": {
        "id": "hbDRcXXjohRk"
      },
      "execution_count": null,
      "outputs": []
    }
  ]
}