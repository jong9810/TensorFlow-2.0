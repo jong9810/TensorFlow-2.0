{
  "nbformat": 4,
  "nbformat_minor": 0,
  "metadata": {
    "colab": {
      "name": "1. TensorFlow Basics.ipynb",
      "private_outputs": true,
      "provenance": [],
      "collapsed_sections": [],
      "authorship_tag": "ABX9TyNNcBKJF2naXexTJHBnF3N1",
      "include_colab_link": true
    },
    "kernelspec": {
      "name": "python3",
      "display_name": "Python 3"
    },
    "language_info": {
      "name": "python"
    }
  },
  "cells": [
    {
      "cell_type": "markdown",
      "metadata": {
        "id": "view-in-github",
        "colab_type": "text"
      },
      "source": [
        "<a href=\"https://colab.research.google.com/github/jong9810/TensorFlow-2.0/blob/main/1_TensorFlow_Basics.ipynb\" target=\"_parent\"><img src=\"https://colab.research.google.com/assets/colab-badge.svg\" alt=\"Open In Colab\"/></a>"
      ]
    },
    {
      "cell_type": "markdown",
      "source": [
        "# 1. TensorFlow Basics"
      ],
      "metadata": {
        "id": "LFV1TGTcn5GU"
      }
    },
    {
      "cell_type": "code",
      "source": [
        "import tensorflow as tf\n",
        "import numpy as np\n",
        "tf.__version__"
      ],
      "metadata": {
        "id": "SJlY9pa_oePG"
      },
      "execution_count": null,
      "outputs": []
    },
    {
      "cell_type": "code",
      "source": [
        "a = tf.constant(10)\n",
        "b = tf.constant(20)\n",
        "\n",
        "c = a + b\n",
        "d = (a + b).numpy()\n",
        "print(type(c))\n",
        "print(c)\n",
        "print(type(d), d)\n",
        "\n",
        "d_numpy_to_tensor = tf.convert_to_tensor(d)\n",
        "print(type(d_numpy_to_tensor))\n",
        "print(d_numpy_to_tensor)"
      ],
      "metadata": {
        "id": "SsA7JpOLofEJ"
      },
      "execution_count": null,
      "outputs": []
    },
    {
      "cell_type": "code",
      "source": [
        "print(c.numpy()) # Eager Execution : Session을 생성하지 않고 파이썬 기본 문법과 비슷하게 코드를 작성"
      ],
      "metadata": {
        "id": "ShyfLltMogoY"
      },
      "execution_count": null,
      "outputs": []
    },
    {
      "cell_type": "code",
      "source": [
        "W = tf.Variable(tf.random.normal([1])) # 변수 생성\n",
        "print('initial W =', W.numpy())\n",
        "print('============================')\n",
        "for step in range(2):\n",
        "    W = W + 1.0\n",
        "    print('step =', step, 'W =', W.numpy())"
      ],
      "metadata": {
        "id": "eWiAvU4gog1z"
      },
      "execution_count": null,
      "outputs": []
    },
    {
      "cell_type": "code",
      "source": [
        "# 함수 정의 (노드)\n",
        "def tensor_sum(x, y):\n",
        "    return x + y\n",
        "\n",
        "result = tensor_sum(a, b)\n",
        "print(type(result))\n",
        "print(result.numpy())"
      ],
      "metadata": {
        "id": "4y3Hsu8Kog7f"
      },
      "execution_count": null,
      "outputs": []
    },
    {
      "cell_type": "markdown",
      "source": [
        "## Keras 특징\n",
        "- User Friendliness\n",
        "- Modularity"
      ],
      "metadata": {
        "id": "JfaIUK-IohAy"
      }
    },
    {
      "cell_type": "markdown",
      "source": [
        "### Train data, Validation data, Test data\n",
        "1. train data : 학습에 사용되는 데이터, 가중치와 바이어스 최적화에 사용\n",
        "1. validation data : 1 epoch 마다 과적합(overfitting)을 확인하기 위해 사용\n",
        "1. test data : 학습 후에 정확도를 평가하거나 임의의 입력에 대한 결과를 예측하기 위해 사용"
      ],
      "metadata": {
        "id": "1BTHltfqohMH"
      }
    },
    {
      "cell_type": "markdown",
      "source": [
        "### Keras 개발 과정 (모델 구축)\n",
        "1. model = Sequential() # 인공 신경망의 큰 틀 생성 (입력층 - 은닉층 - 출력층 포함)\n",
        "1. model.add(Flatten(input_shape=(1,))) # 입력층\n",
        "1. model.add(Dense(2, activation='sigmoid')) # 은닉층\n",
        "1. model.add(Dense(1, activation='sigmoid')) # 출력층\n",
        "1. model.add(Dense(2, activation='sigmoid', input_shape=(1,))) # 3. 과 4.를 합침\n",
        "\n",
        "- Flatten : 입력으로 들어오는 다차원 데이터를 1차원으로 정렬하기 위해 사용되는 레이어 (input_shape=(1,) 와 같이 입력)\n",
        "- Dense : 각 층의 입력과 출력 사이에 있는 모든 노드가 서로 연결되어 있는 완전 연결층 (FC)을 나타내며 Dense의 첫 번째 인자는 출력 노드수를 나타냄\n"
      ],
      "metadata": {
        "id": "hbDRcXXjohRk"
      }
    },
    {
      "cell_type": "markdown",
      "source": [
        "### Keras 개발 과정 (모델 컴파일, 모델 학습)\n",
        "1. [예1] model.compile(optimizer=SGD(learning_rate=0.1), loss='mse', metrics=['accuracy'])\n",
        "- 최적화 알고리즘 : SGD (확률적 경사하강법), 학습율 : 0.1, 오차함수 : mse, 메트릭 : accuracy (loss는 기본)\n",
        "- 손실함수(loss)의 종류 : mse(평균제곱오차), binary_crossentropy(이진분류), categirical_crossentropy(다중 클래스 분류), sparse_categorical_crossentropy 등\n",
        "\n",
        "2. model.fit(x_train, t_train, epochs=10, batch_size=100, verbose=0, validation_split=0.2)\n",
        "- x_train : 입력 데이터\n",
        "- t_train : 정답 데이터\n",
        "- epochs : 전체 데이터 반복 학습 횟수\n",
        "- batch_size : 배치 사이즈(생략 가능)\n",
        "- verbose : 학습 과정 중 손실값, 정확도 진행 상태 등의 출력 형태 설정(0, 1, 2)\n",
        "- validation_split : 학습데이터의 20%를 검증데이터로 사용\n",
        "- validation_data :validation data가 따로 있다면 지정힐 수 있음\n"
      ],
      "metadata": {
        "id": "O0_6e4MUv8b0"
      }
    },
    {
      "cell_type": "markdown",
      "source": [
        "### Keras 개발 과정 (모델 평가, 모델 저장 및 로드)\n",
        "1. model.evaluate(x_test, t_test, epochs=10, batch_size=100)\n",
        "- x_test : 테스트 데이터\n",
        "- t_test : 정답 데이터\n",
        "- epochs : 전체 테스트 데이터를 가지고 평가 반복하는 횟수\n",
        "- batch_size : 배치 사이즈 (생략 가능)\n",
        "\n",
        "2. model.save('model_name.h5')\n",
        "- 학습이 끝난 모델을 hdf5 파일에 저장\n",
        "\n",
        "3. model = tf.keras.models.load_model('model_name.h5')\n",
        "- 저장되어 있는 모델(model_name.hdf5)을 불러옴"
      ],
      "metadata": {
        "id": "1DD-Y0ynv9HV"
      }
    },
    {
      "cell_type": "code",
      "source": [
        "import tensorflow as tf\n",
        "\n",
        "from tensorflow.keras.models import Sequential\n",
        "from tensorflow.keras.layers import Flatten, Dense\n",
        "from tensorflow.keras.optimizers import SGD\n",
        "\n",
        "import numpy as np\n",
        "print(tf.__version__)"
      ],
      "metadata": {
        "id": "r9PuJg9rv9XH"
      },
      "execution_count": null,
      "outputs": []
    },
    {
      "cell_type": "code",
      "source": [
        "x_data = np.array([1,2,3,4,5,6])\n",
        "t_data = np.array([3,4,5,6,7,8])"
      ],
      "metadata": {
        "id": "JjDZHUPMv9bf"
      },
      "execution_count": null,
      "outputs": []
    },
    {
      "cell_type": "code",
      "source": [
        "model = Sequential()\n",
        "model.add(Flatten(input_shape=(1,))) # 입력층\n",
        "model.add(Dense(1, activation='linear')) # 출력층\n",
        "# model.add(Dense(1, input_shape(1,), activation='linear'))"
      ],
      "metadata": {
        "id": "JV5tyq0Iv9fy"
      },
      "execution_count": null,
      "outputs": []
    },
    {
      "cell_type": "code",
      "source": [
        "model.compile(optimizer=SGD(learning_rate=1e-2), loss='mse')\n",
        "model.summary()"
      ],
      "metadata": {
        "id": "FU7Y0Tm2v9ji"
      },
      "execution_count": null,
      "outputs": []
    },
    {
      "cell_type": "code",
      "source": [
        "hist = model.fit(x_data, t_data, epochs=1000)"
      ],
      "metadata": {
        "id": "3sRulirav9nu"
      },
      "execution_count": null,
      "outputs": []
    },
    {
      "cell_type": "code",
      "source": [
        "result = model.predict(np.array([-3.1, 3.0, 3.5, 15.0, 20.1]))\n",
        "print(result)"
      ],
      "metadata": {
        "id": "pke5hxP4v9rW"
      },
      "execution_count": null,
      "outputs": []
    }
  ]
}