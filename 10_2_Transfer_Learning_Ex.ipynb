{
  "nbformat": 4,
  "nbformat_minor": 0,
  "metadata": {
    "colab": {
      "name": "10-2. Transfer Learning Ex.ipynb",
      "private_outputs": true,
      "provenance": [],
      "collapsed_sections": [],
      "authorship_tag": "ABX9TyO1qB+WgltbJjRE6uS/05/B",
      "include_colab_link": true
    },
    "kernelspec": {
      "name": "python3",
      "display_name": "Python 3"
    },
    "language_info": {
      "name": "python"
    }
  },
  "cells": [
    {
      "cell_type": "markdown",
      "metadata": {
        "id": "view-in-github",
        "colab_type": "text"
      },
      "source": [
        "<a href=\"https://colab.research.google.com/github/jong9810/TensorFlow-2.0/blob/main/10_2_Transfer_Learning_Ex.ipynb\" target=\"_parent\"><img src=\"https://colab.research.google.com/assets/colab-badge.svg\" alt=\"Open In Colab\"/></a>"
      ]
    },
    {
      "cell_type": "markdown",
      "source": [
        "# Transfer Learning Example : Cats and Dogs\n",
        "- Cats and Dogs 데이터 셋은 CNN 아키텍처를 구축하고 평가하기 위한 일종의 Hello World같은 학습 데이터라고 할 수 있다."
      ],
      "metadata": {
        "id": "Q0z_IRE-dVrc"
      }
    },
    {
      "cell_type": "markdown",
      "source": [
        ""
      ],
      "metadata": {
        "id": "zgU1urw9djzX"
      }
    },
    {
      "cell_type": "code",
      "source": [
        "import tensorflow as tf\n",
        "import numpy as np\n",
        "import pandas as pd\n",
        "import matplotlib.pyplot as plt\n",
        "\n",
        "tf.__version__"
      ],
      "metadata": {
        "id": "zUDzr06Wdj2l"
      },
      "execution_count": null,
      "outputs": []
    },
    {
      "cell_type": "code",
      "source": [
        "from tensorflow.keras.models import Sequential\n",
        "from tensorflow.keras.applications import Xception\n",
        "from tensorflow.keras.layers import Flatten, Dense, Dropout, GlobalAveragePooling2D\n",
        "from tensorflow.keras.preprocessing.image import ImageDataGenerator"
      ],
      "metadata": {
        "id": "WQR4-Q8Ydj5q"
      },
      "execution_count": null,
      "outputs": []
    },
    {
      "cell_type": "code",
      "source": [
        "# 1. 학습 데이터 불러오기\n",
        "!wget https://storage.googleapis.com/mledu-datasets/cats_and_dogs_filtered.zip"
      ],
      "metadata": {
        "id": "OZ672sjNdj81"
      },
      "execution_count": null,
      "outputs": []
    },
    {
      "cell_type": "code",
      "source": [
        "import os\n",
        "import shutil\n",
        "\n",
        "if os.path.exists('/content/cats_and_dogs_filtered/'):\n",
        "    shutil.rmtree('/content/cats_and_dogs_filtered/')\n",
        "    print('/content/cats_and_dogs_filtered/  is removed!!!')"
      ],
      "metadata": {
        "id": "X48QcXngdj_9"
      },
      "execution_count": null,
      "outputs": []
    },
    {
      "cell_type": "code",
      "source": [
        "# 압축파일 풀기\n",
        "import zipfile\n",
        "\n",
        "with zipfile.ZipFile('/content/cats_and_dogs_filtered.zip', 'r') as target_file:\n",
        "    target_file.extractall('/content/cats_and_dogs_filtered/')"
      ],
      "metadata": {
        "id": "1udNlWrfdkDO"
      },
      "execution_count": null,
      "outputs": []
    },
    {
      "cell_type": "code",
      "source": [
        "# 2. 모델 구축 (pre-trained Xception + User-defined Classifier)\n",
        "IMG_WIDTH = 224\n",
        "IMG_HEIGHT = 224\n",
        "\n",
        "base_model = Xception(weights='imagenet', include_top=False, input_shape=(IMG_WIDTH, IMG_HEIGHT, 3))\n",
        "\n",
        "model = Sequential()\n",
        "\n",
        "model.add(base_model)\n",
        "\n",
        "model.add(GlobalAveragePooling2D())\n",
        "\n",
        "model.add(Dense(16, activation='relu'))\n",
        "model.add(Dropout(0.25))\n",
        "\n",
        "model.add(Dense(2, activation='softmax')) # 정답이 cat, dog 두 종류이므로 출력층 노드 수 = 2\n",
        "\n",
        "model.summary()"
      ],
      "metadata": {
        "id": "OFuiL4fcdkGU"
      },
      "execution_count": null,
      "outputs": []
    },
    {
      "cell_type": "code",
      "source": [
        "# 3. ImageDataGenerator 정의\n",
        "train_dir = '/content/cats_and_dogs_filtered/cats_and_dogs_filtered/train'\n",
        "test_dir = '/content/cats_and_dogs_filtered/cats_and_dogs_filtered/validation'\n",
        "\n",
        "train_data_gen = ImageDataGenerator(rescale=1./255, rotation_range=10, width_shift_range=0.1, height_shift_range=0.1, shear_range=0.1, zoom_range=0.1)\n",
        "test_data_gen = ImageDataGenerator(rescale=1./255) # 이미지 읽어올 때 정규화됨"
      ],
      "metadata": {
        "id": "Xt8C4sYkdkJT"
      },
      "execution_count": null,
      "outputs": []
    },
    {
      "cell_type": "code",
      "source": [
        "train_data = train_data_gen.flow_from_directory(train_dir, batch_size=32, color_mode='rgb', shuffle=True, class_mode='categorical', target_size=(IMG_WIDTH, IMG_HEIGHT))\n",
        "test_data = test_data_gen.flow_from_directory(test_dir, batch_size=32, color_mode='rgb', shuffle=True, class_mode='categorical', target_size=(IMG_WIDTH, IMG_HEIGHT))"
      ],
      "metadata": {
        "id": "chRbeG52dkMP"
      },
      "execution_count": null,
      "outputs": []
    },
    {
      "cell_type": "code",
      "source": [
        "# 정답 확인\n",
        "# class_indices 속성을 이용하면, 문자열로 표시되는 데이터의 정답이 어떤 숫자로 매칭되어 있는지 확인할 수 있음.\n",
        "print(train_data.class_indices.items())\n",
        "print(test_data.class_indices.items())"
      ],
      "metadata": {
        "id": "Ih9VFvdbdkPB"
      },
      "execution_count": null,
      "outputs": []
    },
    {
      "cell_type": "code",
      "source": [
        "# 4. 모델 컴파일 및 학습\n",
        "model.compile(loss='categorical_crossentropy', optimizer=tf.keras.optimizers.Adam(2e-5), metrics=['accuracy'])\n",
        "# 전이 학습에서는 학습율을 낮게 설정해서 pre-trained weights를 조금씩 업데이트 해주는 것이 중요하다."
      ],
      "metadata": {
        "id": "eBTBu0zSdkR8"
      },
      "execution_count": null,
      "outputs": []
    },
    {
      "cell_type": "code",
      "source": [
        "from datetime import datetime\n",
        "from tensorflow.keras.callbacks import ModelCheckpoint, EarlyStopping\n",
        "# EarlyStoppin 함수를 사용하면 오버피팅이 크기 발생하기 전에 계산을 멈출 수 있다."
      ],
      "metadata": {
        "id": "Dz4y4HTJdkUv"
      },
      "execution_count": null,
      "outputs": []
    },
    {
      "cell_type": "code",
      "source": [
        "save_file_name = './cats_and_dogs_filtered_Xception_Colab.h5'\n",
        "\n",
        "checkpoint = ModelCheckpoint(save_file_name, monitor='val_loss', verbose=1, save_best_only=True, mode='auto')\n",
        "earlystopping = EarlyStopping(monitor='val_loss', patience=5)\n",
        "\n",
        "hist = model.fit(train_data, epochs=30, validation_data=test_data, callbacks=[checkpoint, earlystopping])"
      ],
      "metadata": {
        "id": "Y-8fzWB-dkX3"
      },
      "execution_count": null,
      "outputs": []
    },
    {
      "cell_type": "code",
      "source": [
        "plt.plot(hist.history['loss'], label='train')\n",
        "plt.plot(hist.history['val_loss'], label='validation')\n",
        "plt.title('Loss Trend')\n",
        "plt.xlabel('epochs')\n",
        "plt.ylabel('loss')\n",
        "plt.legend(loc='best')\n",
        "plt.grid()\n",
        "plt.show()"
      ],
      "metadata": {
        "id": "BbkfRztTdkaR"
      },
      "execution_count": null,
      "outputs": []
    },
    {
      "cell_type": "code",
      "source": [
        "plt.plot(hist.history['accuracy'], label='train')\n",
        "plt.plot(hist.history['val_accuracy'], label='validation')\n",
        "plt.title('Accuracy Trend')\n",
        "plt.xlabel('epochs')\n",
        "plt.ylabel('accuracy')\n",
        "plt.legend(loc='best')\n",
        "plt.grid()\n",
        "plt.show()"
      ],
      "metadata": {
        "id": "7O7IrxFFdkc3"
      },
      "execution_count": null,
      "outputs": []
    },
    {
      "cell_type": "code",
      "source": [
        "# 5. 테스트 데이터 로드 및 예측\n",
        "import os\n",
        "import shutil\n",
        "\n",
        "if os.path.exists('/content/test_image_dir/'):\n",
        "    shutil.rmtree('/content/test_image_dir/')\n",
        "    print('/content/test_image_dir/  is removed !!!')"
      ],
      "metadata": {
        "id": "xFXimlDqdkfe"
      },
      "execution_count": null,
      "outputs": []
    },
    {
      "cell_type": "code",
      "source": [
        "import zipfile\n",
        "\n",
        "with zipfile.ZipFile('/content/test_image_dir.zip', 'r') as target_file:\n",
        "    target_file.extractall('/content/test_image_dir/')"
      ],
      "metadata": {
        "id": "fQFKOGvwq9WA"
      },
      "execution_count": null,
      "outputs": []
    },
    {
      "cell_type": "code",
      "source": [
        "import cv2\n",
        "import glob\n",
        "\n",
        "test_img_list = []\n",
        "\n",
        "test_img_name_list = glob.glob('test_image_dir/*') # 테스트 이미지 파일이름 리스트\n",
        "\n",
        "# 테스트 이미지 파일 로드 및 전처리 작업\n",
        "for i in range(len(test_img_name_list)):\n",
        "    src_img = cv2.imread(test_img_name_list[i], cv2.IMREAD_COLOR) # 이미지 로드\n",
        "    src_img = cv2.resize(src_img, dsize=(IMG_WIDTH, IMG_HEIGHT))  # 사이즈 변경\n",
        "\n",
        "    dst_img = cv2.cvtColor(src_img, cv2.COLOR_BGR2RGB)\n",
        "\n",
        "    dst_img = dst_img / 255.0 # 이미지 정규화\n",
        "\n",
        "    test_img_list.append(dst_img)"
      ],
      "metadata": {
        "id": "mzgqrjb-q9dL"
      },
      "execution_count": null,
      "outputs": []
    },
    {
      "cell_type": "code",
      "source": [
        "plt.figure(figsize=(8,6))\n",
        "\n",
        "for i in range(len(test_img_list)):\n",
        "    plt.subplot(2, 3, i+1)\n",
        "    plt.axis('off')\n",
        "    plt.imshow(test_img_list[i])\n",
        "plt.show()"
      ],
      "metadata": {
        "id": "4MGuCaSpsp0t"
      },
      "execution_count": null,
      "outputs": []
    },
    {
      "cell_type": "code",
      "source": [
        "for i in range(len(test_img_list)):\n",
        "    print(test_img_list[i].shape)"
      ],
      "metadata": {
        "id": "0ul_f98zuXww"
      },
      "execution_count": null,
      "outputs": []
    },
    {
      "cell_type": "code",
      "source": [
        "pred = model.predict(np.array(test_img_list))\n",
        "\n",
        "class_name = ['cat', 'dog'] # ImageDataGenerator 에서 cat = 0, dog = 1\n",
        "\n",
        "plt.figure(figsize=(8,6))\n",
        "\n",
        "for i in range(len(pred)):\n",
        "    plt.subplot(2,3,i+1)\n",
        "    prediction = str(class_name[np.argmax(pred[i])])\n",
        "    probability = '{0:0.2f}'.format(100 * max(pred[i]))\n",
        "    title_str = prediction + ' , ' + probability + '%'\n",
        "    plt.title(title_str)\n",
        "    plt.imshow(test_img_list[i])\n",
        "plt.show()"
      ],
      "metadata": {
        "id": "X2yoQG64tAwX"
      },
      "execution_count": null,
      "outputs": []
    },
    {
      "cell_type": "code",
      "source": [
        "    "
      ],
      "metadata": {
        "id": "4xsZJidMtA1m"
      },
      "execution_count": null,
      "outputs": []
    },
    {
      "cell_type": "code",
      "source": [
        "# 추가적으로 해보거나 알고 싶은 것\n",
        "# 1. ModelCheckpoint() 함수에 대해 조사하기\n",
        "# 2. 왜 전이학습을 할 때 학습율을 작게 해야 하는지 이유 알아보기\n",
        "# 3. os, zipfile, shutil, cv2, glob 등 파일을 다운 받거나 이동하는 클래스에 대해 더 공부하기\n",
        "# 4. optimizer = Adam() 이 어떤 것인지?\n",
        "# 5. softmax, relu 등 활성화 함수에는 어떤 것들이 있는지\n",
        "# 6. !wget 이 뭔지?\n",
        "# 7. "
      ],
      "metadata": {
        "id": "5KG1Z6c3dkiF"
      },
      "execution_count": null,
      "outputs": []
    }
  ]
}